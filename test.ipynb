{
 "cells": [
  {
   "cell_type": "markdown",
   "metadata": {},
   "source": [
    "## 加载模型\n"
   ]
  },
  {
   "cell_type": "code",
   "execution_count": null,
   "metadata": {},
   "outputs": [],
   "source": [
    "import os\n",
    "GPUID='0'##调用GPU序号\n",
    "os.environ[\"CUDA_VISIBLE_DEVICES\"] = GPUID\n",
    "import torch\n",
    "from apphelper.image import xy_rotate_box,box_rotate,solve\n",
    "import model"
   ]
  },
  {
   "cell_type": "code",
   "execution_count": null,
   "metadata": {},
   "outputs": [],
   "source": [
    "import cv2\n",
    "import numpy as np\n",
    "import cv2\n",
    "def plot_box(img,boxes):\n",
    "    blue = (0, 0, 0) #18\n",
    "    tmp = np.copy(img)\n",
    "    for box in boxes:\n",
    "         cv2.rectangle(tmp, (int(box[0]),int(box[1])), (int(box[2]), int(box[3])), blue, 1) #19\n",
    "    \n",
    "    return Image.fromarray(tmp) \n",
    "\n",
    "def plot_boxes(img,angle, result,color=(0,0,0)):\n",
    "    tmp = np.array(img)\n",
    "    c = color\n",
    "    w,h = img.size\n",
    "    thick = int((h + w) / 300)\n",
    "    i = 0\n",
    "    if angle in [90,270]:\n",
    "        imgW,imgH = img.size[::-1]\n",
    "        \n",
    "    else:\n",
    "        imgW,imgH = img.size\n",
    "\n",
    "    for line in result:\n",
    "        cx =line['cx']\n",
    "        cy = line['cy']\n",
    "        degree =line['degree']\n",
    "        w  = line['w']\n",
    "        h = line['h']\n",
    "\n",
    "        x1,y1,x2,y2,x3,y3,x4,y4 = xy_rotate_box(cx, cy, w, h, degree/180*np.pi)\n",
    "        \n",
    "        x1,y1,x2,y2,x3,y3,x4,y4 = box_rotate([x1,y1,x2,y2,x3,y3,x4,y4],angle=(360-angle)%360,imgH=imgH,imgW=imgW)\n",
    "        cx  =np.mean([x1,x2,x3,x4])\n",
    "        cy  = np.mean([y1,y2,y3,y4])\n",
    "        cv2.line(tmp,(int(x1),int(y1)),(int(x2),int(y2)),c,1)\n",
    "        cv2.line(tmp,(int(x2),int(y2)),(int(x3),int(y3)),c,1)\n",
    "        cv2.line(tmp,(int(x3),int(y3)),(int(x4),int(y4)),c,1)\n",
    "        cv2.line(tmp,(int(x4),int(y4)),(int(x1),int(y1)),c,1)\n",
    "        mess=str(i)\n",
    "        cv2.putText(tmp, mess, (int(cx), int(cy)),0, 1e-3 * h, c, thick // 2)\n",
    "        i+=1\n",
    "    return Image.fromarray(tmp)"
   ]
  },
  {
   "cell_type": "code",
   "execution_count": null,
   "metadata": {},
   "outputs": [],
   "source": [
    "import time\n",
    "from PIL import Image\n",
    "p = './test/train.jpg'\n",
    "img = Image.open(p).convert(\"RGB\")\n",
    "w,h = img.size\n",
    "timeTake = time.time()\n",
    "_,result,angle= model.model(img,\n",
    "                                    detectAngle=True,##是否进行文字方向检测\n",
    "                                    config=dict(MAX_HORIZONTAL_GAP=100,##字符之间的最大间隔，用于文本行的合并\n",
    "                                    MIN_V_OVERLAPS=0.7,\n",
    "                                    MIN_SIZE_SIM=0.7,\n",
    "                                    TEXT_PROPOSALS_MIN_SCORE=0.1,\n",
    "                                    TEXT_PROPOSALS_NMS_THRESH=0.3,\n",
    "                                    TEXT_LINE_NMS_THRESH = 0.99,##文本行之间测iou值\n",
    "                                    MIN_RATIO=1.0,\n",
    "                                    LINE_MIN_SCORE=0.1,\n",
    "                                    TEXT_PROPOSALS_WIDTH=0,\n",
    "                                    MIN_NUM_PROPOSALS=0,                                               \n",
    "                ),\n",
    "                                    leftAdjust=True,##对检测的文本行进行向左延伸\n",
    "                                    rightAdjust=True,##对检测的文本行进行向右延伸\n",
    "                                    alph=0.0,##对检测的文本行进行向右、左延伸的倍数\n",
    "                                    ifadjustDegree=True\n",
    "                                   )\n",
    "        \n",
    "timeTake = time.time()-timeTake\n",
    "\n",
    "print('It take:{}s'.format(timeTake))\n",
    "for line in result:\n",
    "    print(line['text'])\n",
    "plot_boxes(img,angle, result,color=(0,0,0))"
   ]
  }
 ],
 "metadata": {
  "kernelspec": {
   "display_name": "chineseocr",
   "language": "python",
   "name": "chineseocr"
  },
  "language_info": {
   "codemirror_mode": {
    "name": "ipython",
    "version": 3
   },
   "file_extension": ".py",
   "mimetype": "text/x-python",
   "name": "python",
   "nbconvert_exporter": "python",
   "pygments_lexer": "ipython3",
   "version": "3.6.2"
  }
 },
 "nbformat": 4,
 "nbformat_minor": 2
}
